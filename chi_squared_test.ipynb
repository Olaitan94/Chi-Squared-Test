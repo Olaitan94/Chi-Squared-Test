{
 "cells": [
  {
   "cell_type": "code",
   "execution_count": 95,
   "metadata": {},
   "outputs": [],
   "source": [
    "import pandas as pd\n",
    "\n",
    "jeo = pd.read_csv('jeopardy.csv')\n",
    "jeo.head()\n",
    "#print(jeo.info())\n",
    "jeo.columns = ['show_number', 'air_date', 'round', 'category', 'value', 'question', 'answer']\n"
   ]
  },
  {
   "cell_type": "code",
   "execution_count": 96,
   "metadata": {},
   "outputs": [
    {
     "name": "stdout",
     "output_type": "stream",
     "text": [
      "<class 'pandas.core.frame.DataFrame'>\n",
      "RangeIndex: 19999 entries, 0 to 19998\n",
      "Data columns (total 9 columns):\n",
      " #   Column          Non-Null Count  Dtype         \n",
      "---  ------          --------------  -----         \n",
      " 0   show_number     19999 non-null  int64         \n",
      " 1   air_date        19999 non-null  datetime64[ns]\n",
      " 2   round           19999 non-null  object        \n",
      " 3   category        19999 non-null  object        \n",
      " 4   value           19999 non-null  float64       \n",
      " 5   question        19999 non-null  object        \n",
      " 6   answer          19999 non-null  object        \n",
      " 7   clean_question  19999 non-null  object        \n",
      " 8   clean_answer    19999 non-null  object        \n",
      "dtypes: datetime64[ns](1), float64(1), int64(1), object(6)\n",
      "memory usage: 1.4+ MB\n"
     ]
    }
   ],
   "source": [
    "#we will do some cleaning on the text columns for questin & answer\n",
    "import re\n",
    "\n",
    "def clean_string(strings):\n",
    "\n",
    "    clean = strings.lower()\n",
    "    clean= re.sub(\"[^A-Za-z0-9\\s]\", \"\", clean)\n",
    "    clean = re.sub(\"\\s+\", \" \", clean)\n",
    "    return clean\n",
    "\n",
    "jeo['clean_question'] = jeo['question'].apply(clean_string)\n",
    "jeo['clean_answer'] = jeo['answer'].apply(clean_string)\n",
    "\n",
    "#we also need to convert the value column to numeric\n",
    "\n",
    "def convert_values(text):\n",
    "    text = re.sub(\"[^A-Za-z0-9\\s]\", \"\", text)\n",
    "    try:\n",
    "        text = float(text)\n",
    "    except Exception:\n",
    "        text = 0\n",
    "    return text\n",
    "\n",
    "jeo['value'] = jeo['value'].apply(convert_values)\n",
    "jeo['air_date'] = pd.to_datetime(jeo['air_date'])\n",
    "\n",
    "jeo.head()\n",
    "jeo.info()\n",
    "    "
   ]
  },
  {
   "cell_type": "markdown",
   "metadata": {},
   "source": [
    "How often the answer can be used for a question?\n",
    "\n",
    "To answer this question we can find out how many times words in the answer is repeated in the question\n",
    "\n",
    "below is the logic which will use to find this:\n",
    "    1. split the words in each row of clean_question into lists and assign the lists to a new column questions_list.\n",
    "    2. split the words in each row of clean_answer into lists and assign the lists to a new column answers_list.\n",
    "    3. create an empty list -- Counts n\n",
    "    4. Now loop through each row in the answers_list column and do the following\n",
    "        a. 'the' is very common, so we will remove it with the list.remove() method. For each list, count the number of occurences of the word 'the'. Since remove only removes the first occurence we have to repeat this step for the no of counts of the word.\n",
    "        b. create a variable for storing the freq,now iterate over the words in the answers_list, for each word in answer thats also in question, add one to the variable.\n",
    "        c. append the final count variable/ length of answer_list to the counts list\n",
    "    5. Use the enumerate function to create a dictionary with the counts list. this will have the same length as the no of rows in the dataset.\n",
    "    6. Turn the dictionary into a pd series and add this to the original dataset"
   ]
  },
  {
   "cell_type": "code",
   "execution_count": 97,
   "metadata": {},
   "outputs": [
    {
     "data": {
      "text/plain": [
       "0.05518310949957564"
      ]
     },
     "execution_count": 97,
     "metadata": {},
     "output_type": "execute_result"
    }
   ],
   "source": [
    "jeo['questions_list'] = jeo['clean_question'].str.split()\n",
    "jeo['answers_list'] = jeo['clean_answer'].str.split()\n",
    "\n",
    "\n",
    "counts = []\n",
    "index = 0\n",
    "\n",
    "for row in jeo['answers_list']:\n",
    "     \n",
    "    length = len(row)\n",
    "    if length != 0:\n",
    "        repeat_words = 0  #no of times a word is repeated in answer and question\n",
    "        no_of_the = 0\n",
    "        for word in row:\n",
    "            if word =='the':\n",
    "                no_of_the += 1\n",
    "        for i in range(no_of_the):\n",
    "            row.remove('the')\n",
    "        for entry in row:\n",
    "            if entry in jeo['questions_list'].iloc[index]:\n",
    "                repeat_words += 1\n",
    "        \n",
    "        counts.append(repeat_words/length)\n",
    "        index += 1\n",
    "    else:\n",
    "        counts.append(0)\n",
    "        index += 1\n",
    "    \n",
    "#print(counts, len(counts))\n",
    "\n",
    "freq_dictionary = dict(enumerate(counts))\n",
    "#print(freq_dictionary)\n",
    "\n",
    "#now convert dictionary to pd series\n",
    "\n",
    "freq_dict = pd.DataFrame.from_dict(freq_dictionary, orient = 'index', columns = ['repeat_freq'])\n",
    "\n",
    "#freq_dict.head(20)\n",
    "\n",
    "#now add to the jeo dataset\n",
    "\n",
    "jeo_new = pd.concat([jeo,freq_dict], axis = 1)\n",
    "\n",
    "\n",
    "#find the mean of the repeat_freq column\n",
    "\n",
    "mean_repeat = jeo_new['repeat_freq'].mean()\n",
    "mean_repeat\n",
    "\n",
    "#the results (average mean of about 0.06) shows that answers are only repeated in questions about 6% of the time. \n"
   ]
  },
  {
   "cell_type": "markdown",
   "metadata": {},
   "source": [
    "now lets investigate how many times questions are repeated"
   ]
  },
  {
   "cell_type": "markdown",
   "metadata": {},
   "source": [
    "1. sort the jeo dataset by the air date\n",
    "2. create a set that will contain all the unique words that are 6 and above letters in length\n",
    "3. create an empty list that will save the frequency of repeating words (length >= 6) in each questions\n",
    "4. Loop through the rows in the dataset['question_list'] and do the following:\n",
    "    a. save each row into a list\n",
    "    b. Loop through the list and remove all words less than 6 in length\n",
    "    c. after removing words less than 6 in length from the lists, check the new length of the list\n",
    "    d. if the length of the list is 0, update the freq list with 0\n",
    "    e.otherwise, loop through the list.\n",
    "        i. match_count = 0\n",
    "        ii. for each word in the list, if the word is already in the unique_word set, match_count += 1. Else, add the word to unique set\n",
    "        iii. update freq list with (match_count/length)\n",
    "5. Use the enumerate function to create a dictionary with the counts list. this will have the same length as the no of rows in the dataset.\n",
    "6. Turn the dictionary into a pd series and add this to the original dataset\n",
    "    "
   ]
  },
  {
   "cell_type": "code",
   "execution_count": 98,
   "metadata": {},
   "outputs": [
    {
     "data": {
      "text/plain": [
       "0.7989239490507691"
      ]
     },
     "execution_count": 98,
     "metadata": {},
     "output_type": "execute_result"
    }
   ],
   "source": [
    "jeopardy = jeo.sort_values('air_date')\n",
    "unique_words = set()\n",
    "repeat_word_freq = []\n",
    "\n",
    "for entry in jeopardy['questions_list']:\n",
    "    q_list = entry\n",
    "    for word in q_list:\n",
    "        if len(word) < 6:\n",
    "            q_list.remove(word)\n",
    "    length = len(q_list)\n",
    "    if length == 0:\n",
    "        repeat_word_freq.append(0)\n",
    "    else:\n",
    "        match_count = 0\n",
    "        for term in q_list:\n",
    "            if term in unique_words:\n",
    "                match_count += 1\n",
    "            else:\n",
    "                unique_words.add(term)\n",
    "        repeat_word_freq.append(match_count/length)\n",
    "        \n",
    "freq_d = dict(enumerate(repeat_word_freq))\n",
    "\n",
    "freq_series = pd.DataFrame.from_dict(freq_d, orient = 'index', columns = ['repeat_word_freq'])\n",
    "\n",
    "jeopardy_new = pd.concat([jeopardy,freq_series], axis = 1)\n",
    "\n",
    "mean_repeat_q = jeopardy_new['repeat_word_freq'].mean()\n",
    "mean_repeat_q\n",
    "\n",
    "#There is about 70% overlap between terms in new questions and terms in old questions. This only looks at a small set of questions, and it doesn't look at phrases, it looks at single terms. This makes it relatively insignificant, but it does mean that it's worth looking more into the recycling of questions.\n",
    "\n"
   ]
  }
 ],
 "metadata": {
  "kernelspec": {
   "display_name": "Python 3",
   "language": "python",
   "name": "python3"
  },
  "language_info": {
   "codemirror_mode": {
    "name": "ipython",
    "version": 3
   },
   "file_extension": ".py",
   "mimetype": "text/x-python",
   "name": "python",
   "nbconvert_exporter": "python",
   "pygments_lexer": "ipython3",
   "version": "3.7.6"
  }
 },
 "nbformat": 4,
 "nbformat_minor": 4
}
